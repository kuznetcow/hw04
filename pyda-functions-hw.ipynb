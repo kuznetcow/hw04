{
 "cells": [
  {
   "cell_type": "markdown",
   "metadata": {},
   "source": [
    "## Задание 1"
   ]
  },
  {
   "cell_type": "markdown",
   "metadata": {},
   "source": [
    "Дан список вида:"
   ]
  },
  {
   "cell_type": "code",
   "execution_count": 9,
   "metadata": {},
   "outputs": [],
   "source": [
    "data = [\n",
    "    [13, 25, 23, 34],\n",
    "    [45, 32, 44, 47],\n",
    "    [12, 33, 23, 95],\n",
    "    [13, 53, 34, 35]\n",
    "]"
   ]
  },
  {
   "cell_type": "markdown",
   "metadata": {},
   "source": [
    "Напишите функцию, которая возвращает сумму элементов на диагонали. Т. е. 13+32+23+35.  \n",
    "Список может быть любой длины, но всегда является \"квадратным\" (количество элементов во вложенных списках равно их количеству)."
   ]
  },
  {
   "cell_type": "code",
   "execution_count": 10,
   "metadata": {},
   "outputs": [
    {
     "name": "stdout",
     "output_type": "stream",
     "text": [
      "103\n"
     ]
    }
   ],
   "source": [
    "def function_sum(n):\n",
    "    summ = 0\n",
    "    for element in range(len(n)):\n",
    "        summ = summ + n[element][element]    \n",
    "    return summ\n",
    "    \n",
    "result=function_sum(data)\n",
    "print(result)"
   ]
  },
  {
   "cell_type": "markdown",
   "metadata": {},
   "source": [
    "## Задание 2"
   ]
  },
  {
   "cell_type": "markdown",
   "metadata": {},
   "source": [
    "Напишите функцию, возвращающую сумму первых n чисел Фибоначчи (для этого вам может понадобится ознакомиться с рекурсией)."
   ]
  },
  {
   "cell_type": "code",
   "execution_count": 13,
   "metadata": {},
   "outputs": [
    {
     "name": "stdout",
     "output_type": "stream",
     "text": [
      "5\n",
      "12\n"
     ]
    }
   ],
   "source": [
    "num_of_elements = int(input())\n",
    "\n",
    "def fibonacci_sum(f_sum): #вычисление суммы\n",
    "    def fibonacci_element(n): #вычисление n-го элемента\n",
    "        if n in (1, 2):\n",
    "            return 1\n",
    "        return fibonacci_element(n - 1) + fibonacci_element(n - 2)\n",
    "    fibonacci_sequence=[] #ряд Фибоначчи\n",
    "    for i in range(f_sum):\n",
    "        fibonacci_sequence.append(fibonacci_element(i+1))\n",
    "    return(sum(fibonacci_sequence))\n",
    "\n",
    "print(fibonacci_sum(num_of_elements))"
   ]
  },
  {
   "cell_type": "markdown",
   "metadata": {},
   "source": [
    "## Задание 3\n"
   ]
  },
  {
   "cell_type": "markdown",
   "metadata": {},
   "source": [
    "Напишите функцию, преобразующую произвольный список вида ['2018-01-01', 'yandex', 'cpc', 100] (он может быть любой длины) в словарь {'2018-01-01': {'yandex': {'cpc': 100}}}"
   ]
  },
  {
   "cell_type": "code",
   "execution_count": 14,
   "metadata": {},
   "outputs": [
    {
     "name": "stdout",
     "output_type": "stream",
     "text": [
      "{'2018-01-01': {'yandex': {'cpc': 100}}}\n"
     ]
    }
   ],
   "source": [
    "dict_as_list = ['2018-01-01', 'yandex', 'cpc', 100]\n",
    "\n",
    "length = len(dict_as_list)\n",
    "k = [dict_as_list[length-2]]\n",
    "v = [dict_as_list[length-1]]\n",
    "for i in range(-3, -(length+1), -1):\n",
    "    categories_dict = dict(zip(k, v))\n",
    "    k = [dict_as_list[i]]\n",
    "    v= []\n",
    "    v.append(categories_dict)\n",
    "    categories_dict = dict(zip(k, v))\n",
    "print(categories_dict)"
   ]
  },
  {
   "cell_type": "markdown",
   "metadata": {},
   "source": [
    "## Задание 4"
   ]
  },
  {
   "cell_type": "markdown",
   "metadata": {},
   "source": [
    "Вы работаете секретарем и вам постоянно приходят различные документы. Вы должны быть очень внимательны, чтобы не потерять ни один документ. Каталог документов хранится в следующем виде:"
   ]
  },
  {
   "cell_type": "code",
   "execution_count": 17,
   "metadata": {},
   "outputs": [],
   "source": [
    "documents = [\n",
    "    {'type': 'passport', 'number': '2207 876234', 'name': 'Василий Гупкин'},\n",
    "    {'type': 'invoice', 'number': '11-2', 'name': 'Геннадий Покемонов'},\n",
    "    {'type': 'insurance', 'number': '10006', 'name': 'Аристарх Павлов'}\n",
    "]"
   ]
  },
  {
   "cell_type": "markdown",
   "metadata": {},
   "source": [
    "Перечень полок, на которых находятся документы хранится в следующем виде:"
   ]
  },
  {
   "cell_type": "code",
   "execution_count": 18,
   "metadata": {},
   "outputs": [],
   "source": [
    "directories = {\n",
    "    '1': ['2207 876234', '11-2', '5455 028765'],\n",
    "    '2': ['10006', '5400 028765', '5455 002299'],\n",
    "    '3': ['11', '12'],\n",
    "    '4': ['13', '14'],\n",
    "}"
   ]
  },
  {
   "cell_type": "markdown",
   "metadata": {},
   "source": [
    "Необходимо реализовать пользовательские команды (внимание! это не название функций, которые должны быть выразительными, а команды, которые вводит пользователь, чтобы получить необходимый результат):\n",
    "  \n",
    "- p – people – команда, которая спросит номер документа и выведет имя человека, которому он принадлежит;  \n",
    "- s – shelf – команда, которая спросит номер документа и выведет номер полки, на которой он находится  \n",
    "Правильно обработайте ситуацию, когда пользователь будет вводить несуществующий документ.\n",
    "- l – list – команда, которая выведет список всех документов в формате   \n",
    "**passport \"2207 876234\" \"Василий Гупкин\"**  \n",
    "- as – add shelf – команда, которая спросит номер новой полки и добавит ее в перечень\n",
    "- d – delete – команда, которая спросит номер документа и удалит его из каталога и из перечня полок. Предусмотрите сценарий, когда пользователь вводит несуществующий документ;  \n",
    "- m – move – команда, которая спросит номер документа и целевую полку и переместит его с текущей полки на целевую. Корректно обработайте кейсы, когда пользователь пытается переместить несуществующий документ или переместить документ на несуществующую полку;  \n",
    "- a – add – команда, которая добавит новый документ в каталог и в перечень полок, спросив его номер, тип, имя владельца и номер полки, на котором он будет храниться."
   ]
  },
  {
   "cell_type": "code",
   "execution_count": 18,
   "metadata": {},
   "outputs": [
    {
     "name": "stdout",
     "output_type": "stream",
     "text": [
      "Введите тип документатип\n",
      "Введите номер документа555-012345\n",
      "Введите имяИмя\n",
      "Введите номер полки, на которую необходимо поместить новый документ4\n"
     ]
    }
   ],
   "source": [
    "# a – add – команда, которая добавит новый документ в каталог и в перечень полок\n",
    "def add():\n",
    "    new_type = input('Введите тип документа')\n",
    "    new_number = input('Введите номер документа')\n",
    "    new_name = input('Введите имя')\n",
    "    new_doc_directory_num = input('Введите номер полки, на которую необходимо поместить новый документ')\n",
    "\n",
    "    if new_doc_directory_num in directories.keys():\n",
    "        \n",
    "        new_doc = {'type': new_type, 'number': new_number, 'name': new_name}\n",
    "        documents.append(new_doc)\n",
    "\n",
    "        for keys in directories:\n",
    "            if keys == new_doc_directory_num:\n",
    "                target_dir = directories.get(keys)\n",
    "                target_dir.append(new_number)\n",
    "    else:\n",
    "        print('Введен несуществующий номер полки, новый документ не добавлен')\n",
    "\n",
    "        \n",
    "add()"
   ]
  },
  {
   "cell_type": "code",
   "execution_count": 15,
   "metadata": {},
   "outputs": [
    {
     "name": "stdout",
     "output_type": "stream",
     "text": [
      "{'1': ['2207 876234', '5455 028765', '11-2'], '2': ['10006', '5400 028765', '5455 002299'], '3': ['11', '12'], '4': ['13', '14', '999']}\n",
      "[{'type': 'passport', 'number': '2207 876234', 'name': 'Василий Гупкин'}, {'type': 'invoice', 'number': '11-2', 'name': 'Геннадий Покемонов'}, {'type': 'insurance', 'number': '10006', 'name': 'Аристарх Павлов'}, {'type': 'nbg', 'number': '999', 'name': 'bvz'}]\n"
     ]
    }
   ],
   "source": [
    "print(directories)\n",
    "print(documents)"
   ]
  },
  {
   "cell_type": "code",
   "execution_count": 19,
   "metadata": {},
   "outputs": [
    {
     "name": "stdout",
     "output_type": "stream",
     "text": [
      "Введите командуl\n",
      "passport \"2207 876234\" \"Василий Гупкин\"\n",
      "invoice \"11-2\" \"Геннадий Покемонов\"\n",
      "insurance \"10006\" \"Аристарх Павлов\"\n"
     ]
    }
   ],
   "source": [
    "# p – people – команда, которая спросит номер документа и выведет имя человека, которому он принадлежит;\n",
    "def people():\n",
    "    error_find = 1\n",
    "    documents_number = input(\"Введите номер документа \")\n",
    "    for docs in documents:\n",
    "        if docs[\"number\"] == documents_number:\n",
    "            error_find = 0\n",
    "            print(docs[\"name\"])\n",
    "    if error_find == 1:\n",
    "        print(\"Человек с указанным номером документа не найден\")\n",
    "\n",
    "# s – shelf – команда, которая спросит номер документа и выведет номер полки, на которой он находится\n",
    "def shelf():\n",
    "    nomer = input(\"Ведите номер документа \")\n",
    "    error_num = 1\n",
    "\n",
    "    for key in directories.keys():\n",
    "        a = directories.get(key)\n",
    "        for value in a:\n",
    "            if value == nomer:\n",
    "                error_num = 0\n",
    "                print(key)\n",
    "\n",
    "    if error_num == 1:\n",
    "        print('Номер документа не найден')\n",
    "        \n",
    "# l – list – команда, которая выведет список всех документов в формате\n",
    "def function_list():\n",
    "    for docs in documents:\n",
    "        print(docs[\"type\"], ' \"', docs[\"number\"], '\" ', '\"', docs[\"name\"], '\"', sep = '')\n",
    "    \n",
    "# as – add shelf – команда, которая спросит номер новой полки и добавит ее в перечень\n",
    "def add_shelf():\n",
    "    new_directory = input('Введите номер новой полки')\n",
    "\n",
    "    if new_directory in directories:\n",
    "        print('Полка с таким номером уже существует')\n",
    "    else:\n",
    "        directories[new_directory] = []\n",
    "        print('Создана новая пустая полка')\n",
    "    \n",
    "# d – delete – команда, которая спросит номер документа и удалит его из каталога и из перечня полок\n",
    "def function_delete():\n",
    "    number_input = input('Введите номер документа, который необходимо удалить')\n",
    "    error_number_input = 1\n",
    "\n",
    "    for values in documents:\n",
    "        number = values['number']\n",
    "        if number == number_input:\n",
    "            error_number_input = 0\n",
    "            documents.remove(values)\n",
    "            \n",
    "    for key in directories.keys():\n",
    "        target_directory = directories.get(key)\n",
    "        for value in target_directory:\n",
    "            if value == number_input:\n",
    "                target_directory.remove(number_input)\n",
    "\n",
    "    if error_number_input == 0:\n",
    "        print('Документ ', number_input, ' удален', sep = '')\n",
    "    else:\n",
    "        print('Документ с таким номером не найден')\n",
    "    \n",
    "# m – move – команда, которая спросит номер документа и целевую полку и переместит его с текущей полки на целевую\n",
    "def move():\n",
    "    #проверяем, что номер документа и номер полки введены корректно\n",
    "    error_doc = 1\n",
    "    error_directory = 1\n",
    "\n",
    "    doc_number = input('Введите номер документа, который необходимо переместить ')\n",
    "\n",
    "    for values in documents:\n",
    "        doc_number_exist = values['number']\n",
    "        if doc_number_exist == doc_number:\n",
    "            error_doc = 0\n",
    "\n",
    "    if error_doc == 1:\n",
    "        print('Введён некорректный номер документа')\n",
    "    else:\n",
    "        new_directory = input('Введите номер полки, на которую необходимо переместить документ ')\n",
    "        for key in directories:\n",
    "            if key == new_directory:\n",
    "                error_directory = 0\n",
    "\n",
    "    if error_doc == 0 and error_directory == 1:\n",
    "        print('Введён некорректный номер полки')\n",
    "\n",
    "\n",
    "    #удаляем со старой полки\n",
    "    if error_doc == 0 and error_directory == 0:\n",
    "        for directories_keys in directories:\n",
    "            directories_values = directories.get(directories_keys)\n",
    "            for existing_docs in directories_values:\n",
    "                if existing_docs == doc_number:\n",
    "                    directories_values.remove(existing_docs)\n",
    "\n",
    "    #дбавляем на новую\n",
    "    if error_doc == 0 and error_directory == 0:\n",
    "        for keys in directories:\n",
    "            if keys == new_directory:\n",
    "                a = directories.get(keys)\n",
    "                a.append(doc_number)\n",
    "\n",
    "# a – add – команда, которая добавит новый документ в каталог и в перечень полок\n",
    "def add():\n",
    "    new_type = input('Введите тип документа')\n",
    "    new_number = input('Введите номер документа')\n",
    "    new_name = input('Введите имя')\n",
    "    new_doc_directory_num = input('Введите номер полки, на которую необходимо поместить новый документ')\n",
    "\n",
    "    if new_doc_directory_num in directories.keys():\n",
    "        \n",
    "        new_doc = {'type': new_type, 'number': new_number, 'name': new_name}\n",
    "        documents.append(new_doc)\n",
    "\n",
    "        for keys in directories:\n",
    "            if keys == new_doc_directory_num:\n",
    "                target_dir = directories.get(keys)\n",
    "                target_dir.append(new_number)\n",
    "    else:\n",
    "        print('Введен несуществующий номер полки, новый документ не добавлен')\n",
    "\n",
    "#список команд\n",
    "def user_commands():\n",
    "    commands = ['p', 's', 'l', 'as', 'd', 'm', 'a']\n",
    "    choice = input(\"Введите команду\")\n",
    "    if choice in commands:\n",
    "        if choice == 'p':\n",
    "            people()\n",
    "        elif choice == 's':\n",
    "            shelf()\n",
    "        elif choice == 'l':\n",
    "            function_list()\n",
    "        elif choice == 'as':\n",
    "            add_shelf()\n",
    "        elif choice == 'd':\n",
    "            function_delete()\n",
    "        elif choice == 'm':\n",
    "            move()\n",
    "        elif choice == 'a':\n",
    "            add()\n",
    "    else:\n",
    "        print(\"Введена некорректная команда\")\n",
    "\n",
    "user_commands()"
   ]
  }
 ],
 "metadata": {
  "kernelspec": {
   "display_name": "Python 3",
   "language": "python",
   "name": "python3"
  },
  "language_info": {
   "codemirror_mode": {
    "name": "ipython",
    "version": 3
   },
   "file_extension": ".py",
   "mimetype": "text/x-python",
   "name": "python",
   "nbconvert_exporter": "python",
   "pygments_lexer": "ipython3",
   "version": "3.7.6"
  }
 },
 "nbformat": 4,
 "nbformat_minor": 2
}
